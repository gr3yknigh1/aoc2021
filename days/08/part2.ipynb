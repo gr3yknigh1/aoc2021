{
 "cells": [
  {
   "cell_type": "code",
   "execution_count": 3,
   "metadata": {},
   "outputs": [],
   "source": [
    "import pandas as pd\n",
    "from shared import *"
   ]
  },
  {
   "cell_type": "code",
   "execution_count": 4,
   "metadata": {},
   "outputs": [],
   "source": [
    "input_content = read_raw_input(\"input.txt\")\n",
    "entries = parse_input(input_content)"
   ]
  },
  {
   "cell_type": "code",
   "execution_count": null,
   "metadata": {},
   "outputs": [],
   "source": [
    "numbers = []\n",
    "for signal_patterns, output_values in entries[:1]:\n",
    "    lookup_table: dict[str, int] = generate_lookup_table(signal_patterns)\n",
    "    digit_seq = [lookup_table[output_value] for output_value in output_values]\n",
    "    numbers.append(\n",
    "        int(\"\".join(list(map(str, digit_seq))))\n",
    "    )\n",
    "\n",
    "print(sum(numbers))\n"
   ]
  }
 ],
 "metadata": {
  "interpreter": {
   "hash": "148a42901ad0d91f1d100f69e28455b12288116395f65851960cad72e47cf56b"
  },
  "kernelspec": {
   "display_name": "Python 3.10.0 64-bit ('venv': venv)",
   "language": "python",
   "name": "python3"
  },
  "language_info": {
   "codemirror_mode": {
    "name": "ipython",
    "version": 3
   },
   "file_extension": ".py",
   "mimetype": "text/x-python",
   "name": "python",
   "nbconvert_exporter": "python",
   "pygments_lexer": "ipython3",
   "version": "3.10.0"
  },
  "orig_nbformat": 4
 },
 "nbformat": 4,
 "nbformat_minor": 2
}
